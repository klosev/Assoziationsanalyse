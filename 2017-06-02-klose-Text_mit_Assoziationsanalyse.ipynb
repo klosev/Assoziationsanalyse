{
 "cells": [
  {
   "cell_type": "markdown",
   "metadata": {},
   "source": [
    "# Theoretischer Hintergrund\n",
    "Zunächst wird das Naive-Bayes-Verfahren erläutert und anhand eines Beispiels dargestellt. Bevor wir die dem Verfahren zugrunde liegenden Ideen erläutern, müssen wir das Klassifikationsproblem erst noch ein wenig formalisieren."
   ]
  },
  {
   "cell_type": "markdown",
   "metadata": {},
   "source": [
    "## Ein Beispiel\n",
    "\n",
    "Wir betrachten das folgende Beispiel, welches fiktive (verdichtete)\n",
    "Daten zu einer Problemstellung der Firma behandelt. Die Firma denkt\n",
    "darüber nach, ihren Umsatz mittels einer Marketingkampagne zu steigern.\n",
    "Dabei will die Firma nur solchen Kunden einen Gutschein für weitere\n",
    "Bestellungen senden, bei denen zu erwarten ist, dass sie nicht ohnehin\n",
    "innerhalb von 90 Tagen eine neue Bestellung aufgeben würden (da ja sonst\n",
    "Geld verloren ginge). Es soll eine Vorhersage zum Gutscheinversand auf\n",
    "Basis der Kenntnis über den Ablauf vergangener Bestellungen erfolgen,\n",
    "wobei die Attribute *Verspätung, Kunde, Posten* und *Rücksendung*\n",
    "betrachtet werden und mittels dieser darauf geschlossen werden soll, ob\n",
    "eine Neubestellung (innerhalb von 90 Tagen) erfolgen wird (was dann\n",
    "hieße, dass kein Gutschein zu senden wäre). Die zugehörigen Daten zeigt\n",
    "die folgende Tabelle. Dabei bedeuten die Werte in der Spalte `Kunde`\n",
    "**F**rau, **M**ann und **U**nternehmen.\n",
    "\n",
    "   Fall |  Verspätung |  Kunde  | Posten |  Rücksendung  | ***Neubestellung?***\n",
    "  :--------:|:--------------: | :---------: |:----------:| :---------------: |:------------------:\n",
    "      1     |       lang      |      M      |   einzel   |       nein        |        nein\n",
    "      2     |       lang      |      M      |   einzel   |        ja         |        nein\n",
    "      3     |      keine      |      M      |   einzel   |       nein        |         ja\n",
    "      4     |       kurz      |      F      |   einzel   |       nein        |         ja\n",
    "      5     |       kurz      |      U      |  mehrere   |       nein        |         ja\n",
    "      6     |       kurz      |      U      |  mehrere   |        ja         |        nein\n",
    "      7     |      keine      |      U      |  mehrere   |        ja         |         ja\n",
    "      8     |       lang      |      F      |   einzel   |       nein        |        nein\n",
    "      9     |       lang      |      U      |  mehrere   |       nein        |         ja\n",
    "      10    |       kurz      |      F      |  mehrere   |       nein        |         ja\n",
    "      11    |       lang      |      F      |  mehrere   |        ja         |         ja\n",
    "      12    |      keine      |      F      |   einzel   |        ja         |         ja\n",
    "      13    |      keine      |      M      |  mehrere   |       nein        |         ja\n",
    "      14    |       kurz      |      F      |   einzel   |        ja         |        nein\n",
    "\n",
    "  : Beispieldaten für Entscheidungen zum Gutscheinversand<span\n",
    "  data-label=\"tab:dmgutbsp\"></span>\n",
    "\n",
    "Hierbei müssen also nur *binäre* Entscheidungen (Ja/Nein) getroffen\n",
    "werden. Etwas allgemeiner geht es darum, die Datensätze in zwei\n",
    "*Klassen* einzuteilen. Mit den obigen Trainingsdaten wollen wir dann\n",
    "für neue Datensätze Vorhersagen treffen, zu welcher Klasse diese wohl\n",
    "gehören."
   ]
  },
  {
   "cell_type": "markdown",
   "metadata": {},
   "source": [
    "### Formalisierung des Klassifikationsproblems\n",
    "\n",
    "Um die Notation für die Formaliserung zu vereinfachen, stellen wir uns\n",
    "vor, dass sämtliche Attributwerte reelle Zahlen wären, die ggf. aber nur\n",
    "nominal bzw. ordinal zu interpretieren wären. Dies lässt sich durch\n",
    "Transformation immer erreichen, etwa indem man für nominale Attribute\n",
    "den einzelnen Attributwerten *irgendwelche verschiedenen* Zahlenwerte\n",
    "zuordnet oder indem man ordinalen Attributen Zahlenwerte so zuordnet,\n",
    "dass die *Ordnung erhalten* bleibt. Damit kann man ohne Beschränkung der\n",
    "Allgemeinheit annehmen, dass insgesamt $m$ Datensätze\n",
    "$d_1,d_2,\\dots,d_m$ mit jeweils $\\mu$ reellwertigen Merkmalen\n",
    "(bzw. *Attributen*) $A_1,A_2,\\dots,A_\\mu$ betrachtet werden, d.h.\n",
    "$$\n",
    "\\mathcal{D} = \\{d_1,d_2,\\dots,d_m\\} \\subset \\mathbb{R}^\\mu\n",
    "$$ \n",
    "stellt die *Datenbasis*\n",
    "(die Menge der betrachteten Datensätze) dar. Dabei nehme $A_i$ (das\n",
    "$i$-te Attribut) $m_i$ verschiedene Werte $w_{i,j}\\>,\\ j=1,2,\\dots,m_i$\n",
    "mit der Häufigkeit $m_{i,j}$ an.\n",
    "\n",
    "Die Datensätze aus $\\mathcal{D}$ sind im Allgemeinen $\\kappa$ Klassen\n",
    "$c^{(k)}\\>,\\ k=1,\\dots,\\kappa$ zugeordnet. Hierbei ist\n",
    "$\\kappa\\in\\mathbb{N},\\ \\kappa\\ge2$. Wie für die Attributwerte kann auch für\n",
    "die Klassen angenommen werden, dass diese (natürliche) Zahlen sind,\n",
    "d.h. $c^{(k)}=k-1\\>,\\\n",
    "k=1,\\dots,\\kappa$. Dabei kommt es lediglich auf die Unterscheidbarkeit\n",
    "an und es ist keine Rangfolge festgelegt (Nominalskala). Im Falle einer\n",
    "binären Klassifikation wie im Gutscheinproblem ist also $\\kappa=2$ und\n",
    "es gibt die Klassen 0 und 1; eine Darstellung, die auch in der Praxis\n",
    "häufig anzutreffen ist.\n",
    "\n",
    "In den im Rahmen einer Klassifikation betrachteten *Trainingsdaten*\n",
    "$\\mathcal{T}$ ist dann jedem Datensatz $d_l$ noch eine (wahre bzw. beobachtete)\n",
    "Klasse $c_l\\in\\{0,1,\\dots,\\kappa-1\\}$ zugeordnet, d.h. der $l$-te\n",
    "Trainingsdatensatz besteht aus Tupeln $(d_l,c_l)$, wobei für die\n",
    "Klassenzuordnungen $\\mathcal{C}$ gilt \n",
    "$$\n",
    "\\mathcal{C} = (c_1,c_2,\\dots,c_m)\\>,\\ c_l \\in \\{0,1,\\dots,\\kappa-1\\}\\>,\\ l=1,2,\\dots,\n",
    "m$$\n",
    "so dass sich die Trainingsdaten darstellen lassen als\n",
    "$$\n",
    "\\mathcal{T} =(\\mathcal{D},\\mathcal{C}) = \\{(d_1,c_1),(d_2,c_2),\\dots,(d_m,c_m)\\} \n",
    "  \\subset \\mathbb{R}^\\mu\\times\\{0,1,\\dots,\\kappa-1\\}\\>.\n",
    "$$ \n",
    "Das Klassifikationsproblem besteht dann darin, eine Funktion\n",
    "$$\\begin{aligned}\n",
    " f:\\mathbb{R}^\\mu&\\to\\{0,1,\\dots,\\kappa-1\\}\\\\\n",
    " d&\\mapsto f(d)=c\\end{aligned}$$ \n",
    "zu finden, die zu einem Datensatz $d$\n",
    "die gesuchte Klasse $c$ liefert bzw. vorhersagt. In diesem Zusammenhang\n",
    "wird $f$ als *Klassifikator* und dessen Anwendung als *Klassifikation*\n",
    "bezeichnet. Die Bestimmung der Funktion $f$ aus den Trainingsdaten\n",
    "$\\mathcal{T}$ heißt *Klassifikatorentwurf*.\n"
   ]
  },
  {
   "cell_type": "markdown",
   "metadata": {},
   "source": [
    "## Das Naive Bayes Verfahren\n",
    "\n",
    "\n",
    "Das naive Bayes-Verfahren macht zunächst einige vereinfachende\n",
    "Annahmen und bedient sich dann des *Theorems von <span\n",
    "style=\"font-variant:small-caps;\">Bayes</span>*, um aus Basisstatistiken\n",
    "(im wesentlichen relative Häufigkeiten) Entscheidungen abzuleiten. Diese\n",
    "basieren auf Berechnungen von *bedingten Wahrscheinlichkeiten*, die, wie\n",
    "üblich, durch die relativen Häufigkeiten aus den Trainingsdaten $\\mathcal{T}$\n",
    "geschätzt werden. Hier wird also Kommissar Zufall sozusagen durch\n",
    "Kommissar <span style=\"font-variant:small-caps;\">Bayes</span> ersetzt, \n",
    "der zunächst Indizien sammelt, diese dann mit\n",
    "Wahrscheinlichkeiten bewertet und schließlich den Hauptverdächtigen\n",
    "bestimmt."
   ]
  },
  {
   "cell_type": "markdown",
   "metadata": {},
   "source": [
    "### Bedingte Wahrscheinlichkeiten \n",
    "Um Indizien in der genannten Form nutzen zu können, soll zunächst noch\n",
    "die übliche Notation für bedingte Wahrscheinlichkeiten eingeführt\n",
    "werden. Die vorliegenden Indizien seien durch einen Datensatz\n",
    "$d=(w_1,w_2,\\dots,w_\\mu)$ gegeben. Nun ist die Frage, ob $d$ zu einer\n",
    "bestimmten Klasse, etwa $c^*$ gehört. Es geht dann also darum, die\n",
    "*bedingte Wahrscheinlichkeit* für $c^*$ zu bestimmen unter der\n",
    "Voraussetzung, dass die Indizien $d$ vorliegen. Die gesuchte bedingte\n",
    "Wahrscheinlichkeit wird dargestellt als \n",
    "$$\n",
    " P(c^*\\mid d) := \\frac{P(c^*\\cap d)}{P(d)}\\qquad\\text{(1)}\n",
    "$$ \n",
    "Die rechte Seite der\n",
    "Definitionsgleichung (1) zeigt die Definition der bedingten\n",
    "Wahrscheinlichkeit. Diese erhält man also dadurch, dass die\n",
    "Wahrscheinlichkeit dafür, dass $d$ tatsächlich zu $c^*$ gehört, durch\n",
    "die Wahrscheinlichkeit für $d$ geteilt wird.\n",
    "\n",
    "$P(c^*\\mid d)$ wird auch als *a-posteriori Wahrscheinlichkeit*\n",
    "bezeichnet, da diese erst nach Vorliegen der Indizien berechnet werden\n",
    "kann. Demgegenüber wäre $P(c^*)$ die *a-priori Wahrscheinlichkeit* der\n",
    "Klasse $c^*$, d.h. die Wahrscheinlichkeit für $c^*$ ohne weiteres\n",
    "Wissen, also ohne spezielle Indizien. Der naive Bayes Klassifikator\n",
    "würde dann die Klasse $c^{\\text{max}}$ wählen, für die die Indizien am\n",
    "stärksten sprechen.\n",
    "\n",
    "Im weiteren Verlauf ist es nun wichtig, auch die bedingten\n",
    "Wahrscheinlichkeiten $P(d\\mid c^*)$ zu betrachten, also die\n",
    "Wahrscheinlichkeit, den Datensatz $d$ zu finden, wenn bekannt ist, dass\n",
    "die zugehörige Klasse $c^*$ ist. Diese lassen sich nämlich aus der\n",
    "Datenbasis $\\mathcal{D}$ unter gewissen Annahmen ebenso berechnen wie die\n",
    "a-priori Wahrscheinlichkeit $P(c^*)$. Die gesuchte bedingte\n",
    "Wahrscheinlichkeit für $c^*$ erhält man dann mit Hilfe des Theorems\n",
    "von <span style=\"font-variant:small-caps;\">Bayes</span>."
   ]
  },
  {
   "cell_type": "markdown",
   "metadata": {},
   "source": [
    "##### Das Theorem von <span style=\"font-variant:small-caps;\">Bayes</span>\n",
    "\n",
    "Gleichung (1) hat das Problem, dass weder der Zähler noch der\n",
    "Nenner effizient berechnet werden können. Die Situation wird durch\n",
    "Gleichung (2) verbessert: \n",
    "$$\n",
    " P(c^*\\mid d) = \\frac{P(d\\mid c^*)\\cdot P(c^*)}{P(d)}\\qquad\\text{(2)}\n",
    "$$\n",
    "Dies ist\n",
    "das Theorem von <span style=\"font-variant:small-caps;\">Bayes</span>,\n",
    "welches eigentlich nur eine geschickte Umformung darstellt. Somit ist\n",
    "der Beweis des Theorems denkbar einfach, denn gemäß der Definition der\n",
    "bedingten Wahrscheinlichkeit gilt: \n",
    "$$\n",
    " P(c^*\\cap d) = \\frac{P(c^*\\cap d)}{P(c^*)}\\cdot P(c^*) = P(d\\mid c^*)\\cdot P(c^*)\n",
    "$$\n",
    "Setzt man dies nun in Gleichung (1) ein, so ergibt sich\n",
    "unmittelbar Gleichung (2), also das Theorem von <span\n",
    "style=\"font-variant:small-caps;\">Bayes</span>."
   ]
  },
  {
   "cell_type": "markdown",
   "metadata": {},
   "source": [
    "##### Praktische Umsetzung\n",
    "\n",
    "Nun fragt sich, was man dadurch gewinnt. Als erstes stellt man fest,\n",
    "dass sich die Frage nach der Klasse $c^{\\text{max}}$ mit der höchsten\n",
    "a-posteriori Wahrscheinlichkeit darauf reduziert, den Ausdruck\n",
    "$$\n",
    "I(d,c^*) := P(d\\mid c^*)\\cdot P(c^*)\n",
    "$$ \n",
    "zu maximieren, also den\n",
    "Zähler aus dem Theorem von <span\n",
    "style=\"font-variant:small-caps;\">Bayes</span>. Den Nenner braucht man\n",
    "dazu nicht, denn der ist für alle zu vergleichenden a-posteriori\n",
    "Wahrscheinlichkeiten der selbe und würde daher nur die Größen skalieren!\n",
    "$I(d,c^*)$ bezeichnet dabei die *Indizienstärke* von $d$ für $c^*$.\n",
    "Somit ist nun die Frage, wie die Indizienstärke leicht berechnet werden\n",
    "kann. Für die Einzelwahrscheinlichkeiten $P(A_i=w_i\\mid c^*)$ sowie für\n",
    "die a-priori Wahrscheinlichkeit $P(c^*)$ ist es nun leicht,\n",
    "Schätzungen zu berechnen, indem man aus den Trainingsdaten $\\mathcal{T}$ die\n",
    "entsprechenden relativen Häufigkeiten bestimmt. Dazu muss man lediglich\n",
    "zählen und etwas Bruchrechnen sowie eine **Idee**."
   ]
  },
  {
   "cell_type": "markdown",
   "metadata": {},
   "source": [
    "> An dieser Stelle kommt nun die **Naivität** ins Spiel, indem angenommen wird, alle Attribute\n",
    "bzw.~Attributwerte seien voneinander ***unabhängig*** und ***gleich wichtig***. Dies ist zwar\n",
    "unrealistisch, führt aber zu einem leicht zu rechnenden Verfahren! Aus Sicht der\n",
    "Wahrscheinlichkeitstheorie entsteht nämlich ein Datensatz $d$ aus den *unabhängigen\n",
    "Ereignissen*, dass die Attribute $A_i$ die Werte $w_i$ annehmen für $i=1,\\dots,\\mu$. Somit lässt\n",
    "sich $P(d\\mid c^*)$ wie folgt berechnen:\n",
    "\n",
    "$$\n",
    "P(d\\mid c^*) = P(A_1=w_1\\mid c^*)\\cdot P(A_2=w_2\\mid c^*) \\cdot\\ldots\\cdot P(A_\\mu=w_\\mu\\mid c^*)\\>,\n",
    "$$\n",
    "\n",
    "> d.h.~die bedingte Wahrscheinlichkeit für den Datensatz $d$ bei gegebener Klasse $c^*$ resultiert\n",
    "als Produkt der bedingten Einzelwahrscheinlichkeiten für die Annahme eines bestimmten Wertes durch\n",
    "ein Attribut bei gegebener Klasse $c^*$. Damit kann man die Indizienstärke $I(d,c^*)$ also wie\n",
    "folgt berechnen:\n",
    "\n",
    "$$\n",
    "I(d,c^*) = \\prod_{i=1}^\\mu P(A_i=w_i\\mid c^*)\\cdot P(c^*)\\>.\n",
    "$$"
   ]
  },
  {
   "cell_type": "markdown",
   "metadata": {},
   "source": [
    "Beispielsweise ergeben sich die a-priori Wahrscheinlichkeiten, indem man\n",
    "die absoluten Häufigkeiten der einzelnen Klassen durch die Anzahl der\n",
    "Datensätze teilt, d.h. \n",
    "$$\n",
    "P(c^{(k)})=\\frac{{p^{(k)}}}{m}\\>.\n",
    "$$ \n",
    "Die bedingten Wahrscheinlichkeiten ergeben sich ähnlich: \n",
    "$$\n",
    "P(A_i=w_{i,j}\\mid c^{(k)})=\\frac{P(A_i=w_{i,j}\\wedge c^{(k)})}{P(c^{(k)})}=\n",
    "  \\frac{\\frac{{p_{i,j}^{(k)}}}m}{\\frac{{p^{(k)}}}m}=\\frac{{p_{i,j}^{(k)}}}{{p^{(k)}}}\n",
    "$$ \n",
    "Damit sind alle Zutaten für den Klassifikator vorhanden.\n",
    "\n",
    "Speziell für den binären Fall muss nur eine der beiden Klassen $c^{(1)}$\n",
    "bzw. $c^{(2)}$ ausgewählt werden und die Berechnungen für die jeweils\n",
    "andere Klasse wären symmetrisch. Die ausgewählte Klasse werde mit\n",
    "$c^*$ bezeichnet. Für das Gutscheinbeispiel werde die *Ja*-Klasse,\n",
    "also die innerhalb von 90 Tagen erfolgte Neubestellung, als $c^*$\n",
    "gewählt. Damit erhält man die Werte in der nachflgenden Tabelle.\n",
    "\n",
    "\n",
    "  Attribut ($\\mathbf{A_i}$) | Wert | ${p_{i,j}^*}$ | ${n_{i,j}^*}$ |$P(w_{i,j}\\mid \\text{ja})$ | $P(w_{i,j}\\mid \\text{nein})$ \n",
    "  :---|:---|:---:|:---:|:---:|:---:\n",
    "                                | *(1) lang*      |     2        |     3     |              2/9    |   3/5\n",
    "               **Verspätung**   | *(2) kurz*      |     3        |     2     |              3/9    |   2/5\n",
    "                                | *(3) keine*     |     4        |     0     |              4/9    |    0\n",
    "                                | *(1) U*         |     3        |     1     |              3/9    |   1/5\n",
    "               **Kunde**        | *(2) F*         |     4        |     2     |              4/9    |   2/5\n",
    "                                | *(3) M*         |     2        |     2     |              2/9    |   2/5\n",
    "               **Posten**       | *(1) mehrere*   |     6        |     1     |              6/9    |   1/5\n",
    "                                | *(2) einzel*    |     3        |     4     |              3/9    |   4/5\n",
    "               **Rücksendung**  | *(1) nein*      |     6        |     2     |              6/9    |   2/5\n",
    "                                | *(2) ja*        |     3        |     3     |              3/9    |   3/5\n",
    "  **c: Neubestellung?**    |                        | **9**   |      **5**    |  $\\mathbf{9/14}$   | $\\mathbf{5/14}$\n",
    "\n",
    "\n",
    "  : Basisstatistiken und bedingte Wahrscheinlichkeiten zum\n",
    "  Gutscheinversand<span data-label=\"tab:dmgutcalcbayes\"></span>"
   ]
  },
  {
   "cell_type": "markdown",
   "metadata": {},
   "source": [
    "##### Vorhersage  \n",
    "Nun liege ein neuer Fall in Form des Datensatzes\n",
    "$d_{\\text{neu}}=(\\text{lang, U, mehrere, nein})$ vor. Dann erhält man\n",
    "als Indizienstärken \n",
    "$$\\begin{aligned}\n",
    " I(d_{\\text{neu}},\\text{Ja}) &= \n",
    " \\frac29\\cdot\\frac39\\cdot\\frac69\\cdot\\frac69\\cdot\\frac9{14}=\\frac4{189}=0,0211\\\\\n",
    " I(d_{\\text{neu}},\\text{Nein}) &= \n",
    " \\frac35\\cdot\\frac15\\cdot\\frac15\\cdot\\frac25\\cdot\\frac5{14}=\\frac3{875}=0,0034\n",
    "\\end{aligned}\n",
    "$$\n",
    "Somit sprechen die Indizien also ca. 6 mal stärker für eine Neubestellung als dagegen."
   ]
  },
  {
   "cell_type": "markdown",
   "metadata": {},
   "source": [
    "##### Fehlende Werte\n",
    "\n",
    "Nun werde angenommen, der Datensatz\n",
    "$d_{\\text{missing}}=(\\text{?, M, einzel, ja})$ wäre zu klassifizieren,\n",
    "d.h. ein Datensatz, in dem der Wert für `Verspätung` fehlt\n",
    "bzw. unbekannt ist. Dies ist für den naiven Bayes Klassifikator\n",
    "unproblematisch: der unbekannte Wert wird einfach ignoriert und es\n",
    "werden die Indizien verwendet, die vorhanden sind. Es ergeben sich die\n",
    "Indizienstärken \n",
    "\n",
    "$$\n",
    "\\begin{array}{rll}\n",
    " I(d_{\\text{missing}},\\text{Ja}) &= \n",
    "  \\frac29\\cdot\\frac39\\cdot\\frac39\\cdot\\frac9{14}=\\frac1{63}=0,0159\\\\\n",
    " I(d_{\\text{missing}},\\text{Nein}) &= \n",
    "  \\frac25\\cdot\\frac45\\cdot\\frac35\\cdot\\frac5{14}=\\frac{12}{175}=0,0686\n",
    "\\end{array}\n",
    "$$\n",
    "\n",
    "Diesmal deutet also alles darauf hin, dass der Kunde nicht\n",
    "innerhalb der 90-Tage Frist erneut bestellen wird. Bei genauem Hinsehen\n",
    "erkennt man sogar, dass jedes einzelne der vorhandenen Indizien für den\n",
    "Nein-Fall spricht."
   ]
  },
  {
   "cell_type": "markdown",
   "metadata": {},
   "source": [
    "### Laplace-Schätzer \n",
    "\n",
    "Was passiert aber, wenn bekannt wird, dass es keine Verspätung gab,\n",
    "d.h. der Datensatz wird zu $d_0=(\\text{keine, M, einzel, ja})\\>.$ Im\n",
    "Ja-Fall wird die obige Indizienstärke\n",
    "einfach mit $4/9$ multipliziert, im Nein-Fall jedoch mit $0$! Letzeres\n",
    "bedeutet, dass die gesamte Indizienstärke für den Nein-Fall 0 wird,\n",
    "obwohl doch drei der vier Indizien für diesen Fall sprechen. Dies\n",
    "widerspricht komplett der Intuition und es gibt zum Glück einen\n",
    "einfachen Ausweg: die <span\n",
    "style=\"font-variant:small-caps;\">Laplace</span>-Korrektur. Dies ist\n",
    "ein an und für sich bestechend einfacher Trick."
   ]
  },
  {
   "cell_type": "markdown",
   "metadata": {},
   "source": [
    "> Die zugehörige **Idee** ist ganz einfach: anstatt die absoluten Häufigkeiten dadurch zu berechnen, dass\n",
    "man bei 0 anfängt zu zählen, beginnt man bei 1! Das führt dazu, dass zu den eigentlichen absoluten\n",
    "Häufigkeiten für jeden der $m_i$ Werte $w_{i,j}$ eines Attributs $A_i$ eins hinzu gezählt wird, so\n",
    "dass sich der folgende <span style=\"font-variant:small-caps;\">Laplace</span>-Schätzer für die bedingten Einzelwahrscheinlichkeiten ergibt:\n",
    "\n",
    "$$\n",
    "P(A_i=w_{i,j}\\mid c^{(k)})=\\frac{p_{i,j}^{(k)}+1}{p^{(k)}+m_i}\n",
    "$$\n",
    "\n",
    "> Man beachte, dass natürlich die a-priori Wahrscheinlichkeiten keiner solchen Korrektur bedürfen."
   ]
  },
  {
   "cell_type": "markdown",
   "metadata": {},
   "source": [
    "Damit würde man anstelle der ursprünglichen Tabelle weiter oben die folgende\n",
    "Tabelle mit den <span style=\"font-variant:small-caps;\">Laplace</span>-korrigierten Schätzungen\n",
    "für die bedingten Einzelwahrscheinlichkeiten erhalten.\n",
    "\n",
    "  Attribut ($\\mathbf{A_i}$) | Wert | ${p_{i,j}^*}+1$ | ${n_{i,j}^*}+1$ |$P(w_{i,j}\\mid \\text{ja})$ | $P(w_{i,j}\\mid \\text{nein})$ \n",
    "  :---|:---|:---:|:---:|:---:|:---:\n",
    "                                | *(1) lang*      |     3        |     4     |             3/12    |   4/8\n",
    "               **Verspätung**   | *(2) kurz*      |     4        |     3     |             4/12    |   3/8\n",
    "                                | *(3) keine*     |     5        |     1     |             5/12    |   1/8\n",
    "                                | $p^{(k)}+m_1$   |   **12**     |   **8**   |\n",
    "                                | *(1) U*         |     4        |     2     |             4/12    |   2/8\n",
    "               **Kunde**        | *(2) F*         |     5        |     3     |             5/12    |   3/8\n",
    "                                | *(3) M*         |     3        |     3     |             3/12    |   3/8\n",
    "                                | $p^{(k)}+m_2$   |   **12**     |   **8**   |\n",
    "               **Posten**       | *(1) mehrere*   |     7        |     2     |             7/11    |   2/7\n",
    "                                | *(2) einzel*    |     4        |     5     |             4/11    |   5/7\n",
    "                                | $p^{(k)}+m_3$   |   **11**     |   **7**   |\n",
    "               **Rücksendung**  | *(1) nein*      |     7        |     3     |             7/11    |   3/7\n",
    "                                | *(2) ja*        |     4        |     4     |             4/11    |   4/7\n",
    "                                | $p^{(k)}+m_4$   |   **11**     |   **7**   |\n",
    "  **c: Neubestellung?**    |                        | **9**   |      **5**    |  $\\mathbf{9/14}$   | $\\mathbf{5/14}$\n",
    "\n",
    "  : <span style=\"font-variant:small-caps;\">Laplace</span>-korrigierte\n",
    "  Wahrscheinlichkeiten zum Gutscheinversand<span\n",
    "  data-label=\"tab:dmgutcalcbayeslaplace\"></span>\n",
    "\n",
    "Damit ergeben sich dann die folgenden Indizienstärken: \n",
    "$$\n",
    "\\begin{array}{rl}\n",
    " I(d_0,\\text{Ja}) &= \n",
    "  \\frac5{12}\\cdot\\frac3{12}\\cdot\\frac4{11}\\cdot\\frac4{11}\\cdot\\frac9{14}=\\frac{15}{1694}=0,0088\\\\\n",
    " I(d_0,\\text{Nein}) &= \n",
    "  \\frac18\\cdot\\frac38\\cdot\\frac57\\cdot\\frac47\\cdot\\frac5{14}=\\frac{75}{10976}=0,0068\n",
    "\\end{array}\n",
    "$$ \n",
    "Wie man sieht, kann die <span\n",
    "style=\"font-variant:small-caps;\">Laplace</span>-Korrektur in diesem Fall\n",
    "den Effekt der Dominanz des Attributs `Verspätung` nicht ganz\n",
    "kompensieren; man würde trotz der Korrektur diesmal aufgrund der\n",
    "Indizien erwarten, dass eine Neubestellung erfolgt, da der Effekt einer\n",
    "pünktlichen Lieferung nach Datenlage so stark ist.\n",
    "\n",
    "Allgemein lässt sich allerdings feststellen, dass die Initialisierung\n",
    "der Zählung der absoluten Häufigkeiten mit 1 nicht notwendig ist.\n",
    "Vielmehr kann ein beliebiger Wert $\\lambda\\in\\mathbb{R}$ zur Initialisierung\n",
    "dienen, womit sich dann als Schätzer für die bedingten\n",
    "Einzelwahrscheinlichkeiten ergäbe: \n",
    "$$\n",
    "P(A_i=w_{i,j}\\mid\\mathcal{C}k)=\\frac{{p_{i,j}^{(k)}}+\\lambda}{{p^{(k)}}+\\lambda\\cdot m_i}\n",
    "$$\n",
    "Durch Variation des Parameters $\\lambda$ läßt sich dann für ein\n",
    "gegebenes Klassifikationsproblem das Antwortverhalten des naiven Bayes\n",
    "Verfahrens *optimieren*. Anders als beim 1R-Verfahren liefert das naive\n",
    "Bayes Verfahren also keine Regeln, aufgrund derer eine Klassenzuordnung\n",
    "erfolgt. Vielmehr geschieht dies aufgrund (geschätzter)\n",
    "Wahrscheinlichkeiten für die Klassenzugehörigkeit. Demgegenüber werden\n",
    "beim nächsten hier vorgestellten Verfahren, den Entscheidungsbäumen,\n",
    "wiederum Regeln erstellt. Allerdings liegt den Entscheidungsbäumen\n",
    "deutlich mehr mathematische Theorie zugrunde, als dem 1R-Verfahren, wie\n",
    "der folgende Abschnitt zeigen wird. Die konkreten Berechnungen sind\n",
    "allerdings auch nicht wesentlich komplizierter und basieren wieder auf\n",
    "den bereits bekannten Basisstatistiken und relativen Häufigkeiten."
   ]
  },
  {
   "cell_type": "markdown",
   "metadata": {},
   "source": [
    "# Praktischer Hintergrund\n",
    "Für unsere Textklassifikation wollen wir das Paket [scikit-learn](http://scikit-learn.org/) verwenden, welches zahlreiche Verfahren des [maschinellen Lernens](https://de.wikipedia.org/wiki/Maschinelles_Lernen) bereit stellt. Dieses lernen wir nun zunächst ein wenig kennen. "
   ]
  },
  {
   "cell_type": "markdown",
   "metadata": {},
   "source": [
    "> Die Darstellung folgt dem Buch [IPython Cookbook](http://ipython-books.github.io/)\n"
   ]
  },
  {
   "cell_type": "markdown",
   "metadata": {},
   "source": [
    "# Vorbereitung: Grundlagen von scikit-learn"
   ]
  },
  {
   "cell_type": "markdown",
   "metadata": {},
   "source": [
    "Zur Einführung werden wir mit Hilfe von linearer Regression eine zu leicht verrauschten Daten passende Interpolationsfunktion finden und damit den prinzipiellen Umgang mit `scikit-learn` erlernen. Das Verfahren gehört dabei zur Gruppe des *überwachten Lernens*."
   ]
  },
  {
   "cell_type": "markdown",
   "metadata": {},
   "source": [
    "Zunächst wird wieder importiert, was wir benötigen."
   ]
  },
  {
   "cell_type": "code",
   "execution_count": 1,
   "metadata": {
    "collapsed": true
   },
   "outputs": [],
   "source": [
    "import numpy as np\n",
    "import scipy.stats as st\n",
    "import sklearn.linear_model as lm\n",
    "import matplotlib.pyplot as plt\n",
    "%matplotlib inline"
   ]
  },
  {
   "cell_type": "markdown",
   "metadata": {},
   "source": [
    "Die folgende Exponentialfunktion soll unseren Daten zugrunde liegen."
   ]
  },
  {
   "cell_type": "code",
   "execution_count": 2,
   "metadata": {
    "collapsed": true
   },
   "outputs": [],
   "source": [
    "f = lambda x: np.exp(3 * x)"
   ]
  },
  {
   "cell_type": "markdown",
   "metadata": {},
   "source": [
    "Wir generieren Funktionswerte im Intervall $[0, 2]$."
   ]
  },
  {
   "cell_type": "code",
   "execution_count": 3,
   "metadata": {
    "collapsed": true
   },
   "outputs": [],
   "source": [
    "x_tr = np.linspace(0., 2, 200)\n",
    "y_tr = f(x_tr)"
   ]
  },
  {
   "cell_type": "markdown",
   "metadata": {},
   "source": [
    "Im Intervall $[0, 1]$ generieren wir nun Datenpunkte mit Hilfe der Funktion $f$ und Gauss'schem Rauschen."
   ]
  },
  {
   "cell_type": "code",
   "execution_count": 4,
   "metadata": {
    "collapsed": true
   },
   "outputs": [],
   "source": [
    "x = np.array([0, .1, .2, .5, .8, .9, 1])\n",
    "y = f(x) + np.random.randn(len(x))"
   ]
  },
  {
   "cell_type": "markdown",
   "metadata": {},
   "source": [
    "Das schauen wir uns an (die eigentliche Funktionskurve gestrichelt, die Datenpunkte mit großem Radius; Erklärung der Plotparameter wie immer mittels `?plt.plot`). Man beachte, dass die Datenpunkte bei jedem anders aussehen werden, da diese ja eine *Zufallskomponente* enthalten!"
   ]
  },
  {
   "cell_type": "code",
   "execution_count": 5,
   "metadata": {},
   "outputs": [
    {
     "data": {
      "image/png": "[encoded data removed]",
      "text/plain": [
       "<matplotlib.figure.Figure at 0x7f22052c8588>"
      ]
     },
     "metadata": {},
     "output_type": "display_data"
    }
   ],
   "source": [
    "plt.figure(figsize=(6,3));\n",
    "plt.plot(x_tr[:100], y_tr[:100], '--k');\n",
    "plt.plot(x, y, 'ok', ms=10);"
   ]
  },
  {
   "cell_type": "markdown",
   "metadata": {},
   "source": [
    "Wir werden nun mit `scikit-learn` zunächst eine [lineare Interpolation](https://de.wikipedia.org/wiki/Interpolation) versuchen. Dabei gehen wir wie folgt vor:\n",
    "1. Wir erzwugen zunächst ein Modell (eine Instanz der Klasse `LinearRegression`)\n",
    "2. Wir *trainieren* unser Modell, d.h., wir suchen diejenige Gerade, die am besten zu unseren Daten passt\n",
    "3. Wir nutzen unser Modell (also die Gerade), um Werte *vorherzusagen*\n",
    "Dabei ist zu beachten, dass man aufgrund der `scikit-learn`-API die Vektoren `x_tr` und `x` von ihrer Zeilenform in Spaltenform transformieren muss, da `scikit-learn` davon ausgeht, dass *Beobachtungen* in *Zeilen* und *Merkmale* in *Spalten* angegeben werden. Wir haben nur 1 *Merkmal* (den jeweiligen `x`-Wert) mit 7 *Beobachtungen* (unsere verrauschten Datenpunkte)."
   ]
  },
  {
   "cell_type": "code",
   "execution_count": 6,
   "metadata": {
    "collapsed": true
   },
   "outputs": [],
   "source": [
    "# Instanziierung\n",
    "lr = lm.LinearRegression()\n",
    "# Training\n",
    "lr.fit(x[:, np.newaxis], y);\n",
    "# Vorhersage\n",
    "y_lr = lr.predict(x_tr[:, np.newaxis])"
   ]
  },
  {
   "cell_type": "markdown",
   "metadata": {},
   "source": [
    "Im folgenden Plot ist die Regressionsgerade in grün dargestellt."
   ]
  },
  {
   "cell_type": "code",
   "execution_count": 7,
   "metadata": {},
   "outputs": [
    {
     "data": {
      "image/png": "[encoded data removed]",
      "text/plain": [
       "<matplotlib.figure.Figure at 0x7f22029bde48>"
      ]
     },
     "metadata": {},
     "output_type": "display_data"
    }
   ],
   "source": [
    "plt.figure(figsize=(6,3));\n",
    "plt.plot(x_tr, y_tr, '--k');\n",
    "plt.plot(x_tr, y_lr, 'g');\n",
    "plt.plot(x, y, 'ok', ms=10);\n",
    "plt.xlim(-0.05, 1.05);\n",
    "plt.ylim(y.min()-1, y.max()+1);\n",
    "plt.title(\"Linear regression\");"
   ]
  },
  {
   "cell_type": "markdown",
   "metadata": {},
   "source": [
    "Offensichtlich passt die Gerade als Approximation nicht besonders gut. Das ist natürlich auch nicht weiter verwunderlich, da unsere Ausgangsfunktion ja *nichtlinear* war. Also versuchen wir es mit einem nichtlinearen Modell, genauer gesagt mit [*Polynominterpolation*](https://de.wikipedia.org/wiki/Polynominterpolation). Interessanter Weise können wir dafür weiter das Verfahren der *linearen Regression* benutzen, nur müssen wir die *Dimensionalität* erhöhen. D.h., wir betrachten ein Polynom als *Linearkombination* der Potenzfunktionen bis hin zum *Grad* $d$ des Polynoms. Damit erhalten wir nun $d+1$ *Merkmale*, die linear zum Fuktionswert kombiniert werden sollen. Gesucht werden somit die *Koeffizienten* $a_i, i=1,\\dots,d$ der folgenden Form:\n",
    "$$\n",
    "p(x) = a_0 + a_1 x^1 + a_2 x^2 + \\cdots + a_d x^d\n",
    "$$\n",
    "Mit im Allgemeinen $n$ Beobachtungen ($n=7$ in unserem Fall) erhalten wir dann ein (zumeist unter- oder überbestimmtes) lineares Gleichungssystem der Form\n",
    "$$\n",
    "\\left(\n",
    "\\matrix{\n",
    "1 & x_1 & x_1^2 & \\cdots & x_1^d\\\\\n",
    "1 & x_2 & x_2^2 & \\cdots & x_2^d\\\\\n",
    "1 & x_3 & x_3^2 & \\cdots & x_3^d\\\\\n",
    "\\vdots & \\vdots & \\vdots & \\ddots & \\vdots\\\\\n",
    "1 & x_n & x_n^2 & \\cdots & x_n^d\n",
    "}\n",
    "\\right) \\cdot\n",
    "\\left(\n",
    "\\matrix{ a_0 \\\\ \\vdots \\\\ a_i \\\\ \\vdots \\\\ a_d}\n",
    "\\right) =\n",
    "\\left(\n",
    "\\matrix{f_1 \\\\ \\vdots \\\\ f_k \\\\ \\vdots \\\\ f_n}\n",
    "\\right)\n",
    "$$\n",
    "\n",
    "Dies müssen wir dann \"so gut es geht\" lösen, d.h., wir werden versuchen, den *Fehler*, den wir machen, nach bestimmten Kriterien zu *minimieren* (meistens mit der [Methode der kleinsten Quadrate](https://de.wikipedia.org/wiki/Methode_der_kleinsten_Quadrate)).\n",
    "\n",
    "Der geschilderte Ansatz entspricht der Polynominterpolation mit Hilfe der [Vandermonde-Matrix](https://de.wikipedia.org/wiki/Vandermonde-Matrix) und `numpy` hat dafür praktischer Weise die Funktion `np.vander` parat. Wir versuchen es mit Polynomen vom Grad 2 und 5."
   ]
  },
  {
   "cell_type": "code",
   "execution_count": 8,
   "metadata": {},
   "outputs": [
    {
     "name": "stdout",
     "output_type": "stream",
     "text": [
      "24.08 -5.90 0.00\n",
      "-38.19 74.60 -22.06 -1.33 6.17 0.00\n"
     ]
    },
    {
     "data": {
      "image/png": "[encoded data removed]",
      "text/plain": [
       "<matplotlib.figure.Figure at 0x7f22029115f8>"
      ]
     },
     "metadata": {},
     "output_type": "display_data"
    }
   ],
   "source": [
    "lrp = lm.LinearRegression()  # Modell\n",
    "plt.figure(figsize=(6,3));\n",
    "plt.plot(x_tr, y_tr, '--k');\n",
    "\n",
    "for deg, s in zip([2, 5], ['-', '.']):\n",
    "    lrp.fit(np.vander(x, deg + 1), y);  # Training\n",
    "    y_lrp = lrp.predict(np.vander(x_tr, deg + 1)) # Vorhersage\n",
    "    plt.plot(x_tr, y_lrp, s, label='degree ' + str(deg));\n",
    "    plt.legend(loc=2);\n",
    "    plt.xlim(-0.05, 1.5);\n",
    "    plt.ylim(-10, 40);\n",
    "    # Print the model's coefficients.\n",
    "    print(' '.join(['%.2f' % c for c in lrp.coef_]))\n",
    "plt.plot(x, y, 'ok', ms=10);\n",
    "plt.title(\"Lineare Regression\");"
   ]
  },
  {
   "cell_type": "markdown",
   "metadata": {},
   "source": [
    "Man kann hier (abhängig von den erzeugten Zufallsdaten) ein bekanntes Phänomen sehr gut erkennen: Das Polynom fünften Grades ist sehr gut an die Trainingsdaten angepasst und trifft diese sehr genau; außerhalb des Intervalls $[0,1]$, in dem die $x$-Werte liegen, ist das Polynom jedoch u.U. extrem schlecht geeignet (*Hinweis:* Um dies zu erkennen, müssen Sie die Daten und das Modell eventuell mehrfach generieren). Man spricht hier von *Überanpassung* (engl. **overfitting**), d.h. ein solches Modell ist für die Trainingsdaten gut geeignet, aber der eigentlichen Aufgabe, nämlich der *Vorhersage* nicht gewachsen."
   ]
  },
  {
   "cell_type": "markdown",
   "metadata": {},
   "source": [
    "Mit einem anderen Verfahren, der sogenannten **Ridge Regression** können wir des Problems Herr werden. Die Idee dabei ist, die **Kostenfunktion** zu **regularisieren** (genaueres hierzu findet man unter dem Begriff [Tichonow-Regularisierung](https://en.wikipedia.org/wiki/Tikhonov_regularization)).\n",
    "\n",
    "Hier soll es aber vor allem darum gehen, was mit `scikit-learn` alles auf einfachste Art und Weise möglich ist. Zunächst könnten wir versuchen, mit Hilfe der Klasse `Rigde` und Trial-and_Error ein möglichst gut zur Vorhersage geeignetes Polynom zu finden (dazu müsste man den *Regularisierungsparameter* variieren). Glücklicher Weise gibt es jedoch auch die Klasse (bzw. das Modell) `RidgeCV`, welches dies mit Hilfe von [Kreuzvalidierung](https://de.wikipedia.org/wiki/Kreuzvalidierungsverfahren) (engl. **cross validation**) für uns gleich mit übernimmt.\n",
    "\n",
    "Da in `scikit-learn` immer erst mittels `fit`trainiert und dann mittels `predict` vorhergesagt wird, können wir durch leichte Modifikation des vorherigen Codes ein gut geeignetes Modell finden."
   ]
  },
  {
   "cell_type": "code",
   "execution_count": 9,
   "metadata": {},
   "outputs": [
    {
     "name": "stdout",
     "output_type": "stream",
     "text": [
      "11.84 5.77 0.00\n",
      "3.33 3.72 4.05 4.17 3.75 0.00\n"
     ]
    },
    {
     "data": {
      "image/png": "[encoded data removed]",
      "text/plain": [
       "<matplotlib.figure.Figure at 0x7f2202920eb8>"
      ]
     },
     "metadata": {},
     "output_type": "display_data"
    }
   ],
   "source": [
    "ridge = lm.RidgeCV()  #  anderes Modell\n",
    "plt.figure(figsize=(6,3));\n",
    "plt.plot(x_tr, y_tr, '--k');\n",
    "\n",
    "for deg, s in zip([2, 5], ['-', '.']):\n",
    "    ridge.fit(np.vander(x, deg + 1), y);  # Training (neu)\n",
    "    y_ridge = ridge.predict(np.vander(x_tr, deg + 1)) # Vorhersage (neu)\n",
    "    plt.plot(x_tr, y_ridge, s, label='degree ' + str(deg));\n",
    "    plt.legend(loc=2);\n",
    "    plt.xlim(0, 1.5);\n",
    "    plt.ylim(-5, 80);\n",
    "    # Print the model's coefficients.\n",
    "    print(' '.join(['%.2f' % c for c in ridge.coef_]))\n",
    "\n",
    "plt.plot(x, y, 'ok', ms=10);\n",
    "plt.title(\"Ridge Regression\");"
   ]
  },
  {
   "cell_type": "markdown",
   "metadata": {},
   "source": [
    "Tatsächlich kann man hier deutlich erkennen, dass das quadratische Polynom *unterangepasst* (engl. **underfitted**) ist (das Polynom ersten Grades, also unsere ursprüngliche Gerade, war dies offenbar auch). Die Regularisierung hat hier der Überanpassung effektiv entgegen gewirkt."
   ]
  },
  {
   "cell_type": "markdown",
   "metadata": {},
   "source": [
    "# Anwendung: Aus Texten lernen: Naive Bayes für Sprachverarbeitung"
   ]
  },
  {
   "cell_type": "markdown",
   "metadata": {},
   "source": [
    "Wir werden hier einen ersten Ansatz für die *Sprchverarbeitung* in Python kennen lernen, wobei wir wieder `scikit-learn` einsetzen werden. Es bedarf in diesem Zusammenhang einer gründlichen Vorverarbeitung der Daten und der *Merkmalsextraktion* (engl. **feature extraction**). Man hat es ferner mit sehr *dünn besetzten Matrizen* (engl. **sparse matrices**) zu tun.\n",
    "\n",
    "Ziel ist es, Beleidigungen in Diskussionforen zu erkennen. Der zugehörige Datensatz findet sich im [Daten-Repository](https://github.com/ipython-books/cookbook-data) des [Cookbook](https://ipython-books.github.io/)s. Benötigt wird `troll.zip`. Ursprünglich wurde dieser von der Frima  [Impermium](https://impermium.com) im Rahmen eines [Kaggle Wettbewerbs](https://www.kaggle.com/c/detecting-insults-in-social-commentary) bereit gestellt.\n",
    "\n",
    "***Hinweis:*** Oftmals wird für die Sprachverarbeitung anstelle von `scikit-learn` das spezialisierte Paket [nltk](http://www.nltk.org/) verwendet."
   ]
  },
  {
   "cell_type": "markdown",
   "metadata": {},
   "source": [
    "Zunächst importieren wir noch weitere Pakete."
   ]
  },
  {
   "cell_type": "code",
   "execution_count": 10,
   "metadata": {},
   "outputs": [],
   "source": [
    "import pandas as pd\n",
    "import sklearn\n",
    "import sklearn.model_selection as ms\n",
    "import sklearn.feature_extraction.text as text\n",
    "import sklearn.naive_bayes as nb"
   ]
  },
  {
   "cell_type": "markdown",
   "metadata": {},
   "source": [
    "Dann lesen wir die Daten in ein Pandas-Dataframe ein."
   ]
  },
  {
   "cell_type": "code",
   "execution_count": 11,
   "metadata": {
    "collapsed": true
   },
   "outputs": [],
   "source": [
    "df = pd.read_csv(\"data/troll.csv\")"
   ]
  },
  {
   "cell_type": "markdown",
   "metadata": {},
   "source": [
    "Jede Zeile enthält einen Kommentar nebst Klassifizierung desselben als *beleidigend* (1) oder nicht (0) sowie dem Datum des Kommentars."
   ]
  },
  {
   "cell_type": "code",
   "execution_count": 12,
   "metadata": {},
   "outputs": [
    {
     "data": {
      "text/html": [
       "<div>\n",
       "<table border=\"1\" class=\"dataframe\">\n",
       "  <thead>\n",
       "    <tr style=\"text-align: right;\">\n",
       "      <th></th>\n",
       "      <th>Insult</th>\n",
       "      <th>Date</th>\n",
       "      <th>Comment</th>\n",
       "    </tr>\n",
       "  </thead>\n",
       "  <tbody>\n",
       "    <tr>\n",
       "      <th>3942</th>\n",
       "      <td>1</td>\n",
       "      <td>20120502172717Z</td>\n",
       "      <td>\"you are both morons and that is never happening\"</td>\n",
       "    </tr>\n",
       "    <tr>\n",
       "      <th>3943</th>\n",
       "      <td>0</td>\n",
       "      <td>20120528164814Z</td>\n",
       "      <td>\"Many toolbars include spell check, like Yahoo...</td>\n",
       "    </tr>\n",
       "    <tr>\n",
       "      <th>3944</th>\n",
       "      <td>0</td>\n",
       "      <td>20120620142813Z</td>\n",
       "      <td>\"@LambeauOrWrigley\\xa0\\xa0@K.Moss\\xa0\\nSioux F...</td>\n",
       "    </tr>\n",
       "    <tr>\n",
       "      <th>3945</th>\n",
       "      <td>0</td>\n",
       "      <td>20120528205648Z</td>\n",
       "      <td>\"How about Felix? He is sure turning into one ...</td>\n",
       "    </tr>\n",
       "    <tr>\n",
       "      <th>3946</th>\n",
       "      <td>0</td>\n",
       "      <td>20120515200734Z</td>\n",
       "      <td>\"You're all upset, defending this hipster band...</td>\n",
       "    </tr>\n",
       "  </tbody>\n",
       "</table>\n",
       "</div>"
      ],
      "text/plain": [
       "      Insult             Date  \\\n",
       "3942       1  20120502172717Z   \n",
       "3943       0  20120528164814Z   \n",
       "3944       0  20120620142813Z   \n",
       "3945       0  20120528205648Z   \n",
       "3946       0  20120515200734Z   \n",
       "\n",
       "                                                Comment  \n",
       "3942  \"you are both morons and that is never happening\"  \n",
       "3943  \"Many toolbars include spell check, like Yahoo...  \n",
       "3944  \"@LambeauOrWrigley\\xa0\\xa0@K.Moss\\xa0\\nSioux F...  \n",
       "3945  \"How about Felix? He is sure turning into one ...  \n",
       "3946  \"You're all upset, defending this hipster band...  "
      ]
     },
     "execution_count": 12,
     "metadata": {},
     "output_type": "execute_result"
    }
   ],
   "source": [
    "df.tail()"
   ]
  },
  {
   "cell_type": "markdown",
   "metadata": {},
   "source": [
    "Jetzt definieren wie die *Merkmalsmatrix* $\\mathbf{X}$ und die *Klassifikationen* (labels) $\\mathbf{y}$. Letzeres ist einfach:"
   ]
  },
  {
   "cell_type": "code",
   "execution_count": 13,
   "metadata": {
    "collapsed": true
   },
   "outputs": [],
   "source": [
    "y = df['Insult']"
   ]
  },
  {
   "cell_type": "markdown",
   "metadata": {},
   "source": [
    "Die Merkmalsmatrix hingegen ist deutlich schwieriger zu erhalten. `scikit-learn` kann nur mit Zahlen in Matrizen etwas anfangen, so dass man den Text also in eine Matrix umwandeln muss. Dies geschieht meist in zwei Schritten:\n",
    "1. Man extrahiert ein **Vokabular**, d.h. eine Liste von Worten, die im Text (in unserem Fall: in den Kommentaren) benutzt wurden\n",
    "2. Anschließend zählt man in jedem Datensatz, wie oft das jeweilige Wort darin vorkommt. Da es im Allgemeinen sehr viele Worte gibt und nur die wenigsten davon in einem bestimmten Datensatz (bei uns: in einem Kommentar) wirklich benutzt werden, führt dies zu einer Matrix, die hauptsächlich Nullen enthält (also dünn besetzt ist).\n",
    "\n",
    "Mit Hilfe von `scikit-learn` brauchen wir nur zwei Zeilen Code hierfür. Es kommt das [tf-idf](https://de.wikipedia.org/wiki/Tf-idf-Ma%C3%9F) Verfahren zum Einsatz, mit dessen Hilfe zu häufig vorkommende Worte (\"the\", \"and, etc.) adäquat behandelt werden können."
   ]
  },
  {
   "cell_type": "code",
   "execution_count": 14,
   "metadata": {},
   "outputs": [
    {
     "name": "stdout",
     "output_type": "stream",
     "text": [
      "(3947, 16469)\n"
     ]
    }
   ],
   "source": [
    "tf = text.TfidfVectorizer()  # tf-idf \n",
    "X = tf.fit_transform(df['Comment'])\n",
    "print(X.shape)"
   ]
  },
  {
   "cell_type": "markdown",
   "metadata": {},
   "source": [
    "Es gibt also 3947 Kommentare und 16469 unterschiedliche Worte. Interessant ist auch, wie dünn die Merkmalsmatrix besetzt ist. Dies können wir wie folgt schätzen:"
   ]
  },
  {
   "cell_type": "code",
   "execution_count": 15,
   "metadata": {},
   "outputs": [
    {
     "name": "stdout",
     "output_type": "stream",
     "text": [
      "Die Merkmalsmatrix hat ~0.15% von Null verschiedene Einträge.\n"
     ]
    }
   ],
   "source": [
    "print(\"Die Merkmalsmatrix hat ~{0:.2f}% von Null verschiedene Einträge.\".format(\n",
    "          100 * X.nnz / float(X.shape[0] * X.shape[1])))"
   ]
  },
  {
   "cell_type": "markdown",
   "metadata": {},
   "source": [
    "Nun trainieren wir wieder den Klassifikator. Da wir ähnlich wie bei der *Rigde Regression* auch hier die *Kreuzvalidierung* anwenden wollen, müssen wir dafür aber unsere Daten in Trainings- und Testdaten aufteilen."
   ]
  },
  {
   "cell_type": "code",
   "execution_count": 16,
   "metadata": {},
   "outputs": [],
   "source": [
    "(X_train, X_test, y_train, y_test) = ms.train_test_split(X, y, test_size=.2)"
   ]
  },
  {
   "cell_type": "markdown",
   "metadata": {},
   "source": [
    "Wir verwenden eine besondere Form des Naive-Bayes-Verfahrens, nämlich den [Bernoulli Naive Bayes Klassifikator](https://en.wikipedia.org/wiki/Naive_Bayes_classifier#Bernoulli_naive_Bayes), der eigentlich nicht die Häufigkeit eines Wortes betrachtet, sondern nur, ob es vorhanden ist oder nicht. Zusätzlich wird eine *Glättung* mit Hilfe eines Parameters $\\alpha$ durchgeführt (eine Erklärung des Ansatzes findet man bei der [Stanford University](https://nlp.stanford.edu/courses/cs224n/2001/gruffydd/smoothing.html) und wir kennen ihn als Laplace-Schätzer ...)."
   ]
  },
  {
   "cell_type": "code",
   "execution_count": 17,
   "metadata": {
    "collapsed": true
   },
   "outputs": [],
   "source": [
    "bnb = ms.GridSearchCV(nb.BernoulliNB(), param_grid={'alpha':np.logspace(-2., 2., 50)})\n",
    "bnb.fit(X_train, y_train);"
   ]
  },
  {
   "cell_type": "markdown",
   "metadata": {},
   "source": [
    "Wie gut funktioniert dieser Klassifikator auf unseren Testdaten?"
   ]
  },
  {
   "cell_type": "code",
   "execution_count": 18,
   "metadata": {},
   "outputs": [
    {
     "data": {
      "text/plain": [
       "0.759493670886076"
      ]
     },
     "execution_count": 18,
     "metadata": {},
     "output_type": "execute_result"
    }
   ],
   "source": [
    "bnb.score(X_test, y_test)"
   ]
  },
  {
   "cell_type": "markdown",
   "metadata": {},
   "source": [
    "Wir erzielen also eine Trefferquote von ca. 75$\\%$. Interessant ist auch, welche Worte am häufigsten in beleidigenden Kommentaren zu finden sind. Dies findet man wie folgt heraus:"
   ]
  },
  {
   "cell_type": "code",
   "execution_count": 19,
   "metadata": {},
   "outputs": [
    {
     "name": "stdout",
     "output_type": "stream",
     "text": [
      "you,are,your,the,to,and,of,that,is,it,in,like,on,have,not,for,re,just,with,so,xa0,be,all,an,this,up,idiot,fuck,get,go,don,do,what,stupid,or,but,can,no,ass,know,if,who,as,bitch,because,dumb,about,was,me,here\n"
     ]
    }
   ],
   "source": [
    "# Worte, die zu den (numerischen) Merkmalen gehören\n",
    "names = np.asarray(tf.get_feature_names())\n",
    "# Die 50 Worte mit den höchetn Koeffizienten\n",
    "print(','.join(names[np.argsort(\n",
    "    bnb.best_estimator_.coef_[0,:])[::-1][:50]]))"
   ]
  },
  {
   "cell_type": "markdown",
   "metadata": {},
   "source": [
    "Zum Schluss testen wir noch, wie gut das mit selbst erdachten Beispielen funktioniert."
   ]
  },
  {
   "cell_type": "code",
   "execution_count": 20,
   "metadata": {},
   "outputs": [
    {
     "name": "stdout",
     "output_type": "stream",
     "text": [
      "[1 1 0]\n"
     ]
    }
   ],
   "source": [
    "print(bnb.predict(tf.transform([\n",
    "    \"You are absolutely right.\",\n",
    "    \"This is beyond moronic.\",\n",
    "    \"LOL\"\n",
    "    ])))"
   ]
  },
  {
   "cell_type": "markdown",
   "metadata": {},
   "source": [
    "Allem Anschein nach wird das Wort \"absolutely\" doch recht häufig in Beleidigungen verwendet, während \"right\" vielleicht gar nicht so häufig vorkommt ..."
   ]
  },
  {
   "cell_type": "code",
   "execution_count": null,
   "metadata": {
    "collapsed": true
   },
   "outputs": [],
   "source": []
  }
 ],
 "metadata": {
  "kernelspec": {
   "display_name": "Python 3",
   "language": "python",
   "name": "python3"
  },
  "language_info": {
   "codemirror_mode": {
    "name": "ipython",
    "version": 3
   },
   "file_extension": ".py",
   "mimetype": "text/x-python",
   "name": "python",
   "nbconvert_exporter": "python",
   "pygments_lexer": "ipython3",
   "version": "3.6.0"
  }
 },
 "nbformat": 4,
 "nbformat_minor": 1
}
