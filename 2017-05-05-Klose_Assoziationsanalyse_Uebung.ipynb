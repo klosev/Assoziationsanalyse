{
 "cells": [
  {
   "cell_type": "markdown",
   "metadata": {},
   "source": [
    "## Aufgabe 1\n",
    "![A1](Beispiel.png \"Data Mining Prozess\")\n",
    ": [SCH12]\n",
    "\n",
    "Berechnen Sie für folgende Ereignisse den Support, die Konfidenz und den Lift. Und interpretieren Sie Ihre Ergebnisse:\n",
    "$$\\begin{aligned}\n",
    "1. {(temperature, cool)} \\to{(humidity, normal)}\\\\\n",
    "2. {(outlook, sunny)} \\to {(windy, true)}\\\\\n",
    "3. {(temperature, hot)(play, yes)}\\to{(humidity, normal)}\\\\\n",
    "4. {(outlook, rainy)(play, yes)}\\to {(temperature, mild)}\\\\\n",
    "5. {(humidity,normal)(windy,false)} \\to {(play, yes)}\n",
    "\\end{aligned}$$"
   ]
  },
  {
   "cell_type": "markdown",
   "metadata": {},
   "source": [
    "## Aufgabe 2\n",
    "\n",
    "\n",
    "Führen Sie den Apriori Algorithmus am Beispiel_dataset_Assoziationsanalyse durch. Wählen Sie zusätzlich eine geeignete grafische Darstellung und interpretieren Sie die Ergebnisse"
   ]
  }
 ],
 "metadata": {
  "kernelspec": {
   "display_name": "R",
   "language": "R",
   "name": "ir"
  },
  "language_info": {
   "codemirror_mode": "r",
   "file_extension": ".r",
   "mimetype": "text/x-r-source",
   "name": "R",
   "pygments_lexer": "r",
   "version": "3.3.2"
  }
 },
 "nbformat": 4,
 "nbformat_minor": 2
}
